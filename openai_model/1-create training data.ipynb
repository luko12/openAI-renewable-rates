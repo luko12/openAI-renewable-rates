{
 "cells": [
  {
   "cell_type": "code",
   "execution_count": 2,
   "id": "0226aecb",
   "metadata": {},
   "outputs": [],
   "source": [
    "import pandas as pd"
   ]
  },
  {
   "cell_type": "markdown",
   "id": "83fe6d6c",
   "metadata": {},
   "source": [
    "## Helper"
   ]
  },
  {
   "cell_type": "code",
   "execution_count": 3,
   "id": "9ea5d7eb",
   "metadata": {},
   "outputs": [],
   "source": [
    "def load_csv(self, file_name):\n",
    "    return pd.read_csv(file_name)"
   ]
  },
  {
   "cell_type": "code",
   "execution_count": 4,
   "id": "ade29aae",
   "metadata": {},
   "outputs": [],
   "source": [
    "def read_file_lines(self, file_name):\n",
    "    lines = \"\"\n",
    "    with open(file_name,'r', encoding='utf-8-sig') as f:\n",
    "        lines = f.readlines()\n",
    "\n",
    "    return lines"
   ]
  },
  {
   "cell_type": "code",
   "execution_count": 5,
   "id": "e38801cf",
   "metadata": {},
   "outputs": [
    {
     "data": {
      "text/plain": [
       "'\\niterate through pandas rows;\\nfor index, row in exampler_df.iterrows():\\n    # add your code \\n'"
      ]
     },
     "execution_count": 5,
     "metadata": {},
     "output_type": "execute_result"
    }
   ],
   "source": [
    "\"\"\"\n",
    "iterate through pandas rows;\n",
    "for index, row in exampler_df.iterrows():\n",
    "    # add your code \n",
    "\"\"\""
   ]
  },
  {
   "cell_type": "markdown",
   "id": "f4591c22",
   "metadata": {},
   "source": [
    "## Process"
   ]
  },
  {
   "cell_type": "code",
   "execution_count": null,
   "id": "b1b49d04",
   "metadata": {},
   "outputs": [],
   "source": [
    "## 1- prepare functin to load the data from pandas based on criteria\n",
    "## OpenAI_Training_Data.csv\n",
    "# input parameter states and utilities"
   ]
  },
  {
   "cell_type": "code",
   "execution_count": null,
   "id": "a28c6b42",
   "metadata": {},
   "outputs": [],
   "source": [
    "# 2- load the template \n",
    "#template/ open_example_section_temp.txt\n",
    "\n",
    "# save the result inside model_input"
   ]
  },
  {
   "cell_type": "code",
   "execution_count": null,
   "id": "5911a72f",
   "metadata": {},
   "outputs": [],
   "source": [
    "\"\"\"\n",
    "Context: (pdf name) 189 180\n",
    "\n",
    "\"\"\"\n"
   ]
  },
  {
   "cell_type": "code",
   "execution_count": null,
   "id": "e30e3c7c",
   "metadata": {},
   "outputs": [],
   "source": []
  },
  {
   "cell_type": "code",
   "execution_count": null,
   "id": "f66a0ece",
   "metadata": {},
   "outputs": [],
   "source": []
  }
 ],
 "metadata": {
  "kernelspec": {
   "display_name": "Python (ml)",
   "language": "python",
   "name": "ml"
  },
  "language_info": {
   "codemirror_mode": {
    "name": "ipython",
    "version": 3
   },
   "file_extension": ".py",
   "mimetype": "text/x-python",
   "name": "python",
   "nbconvert_exporter": "python",
   "pygments_lexer": "ipython3",
   "version": "3.10.4"
  }
 },
 "nbformat": 4,
 "nbformat_minor": 5
}
