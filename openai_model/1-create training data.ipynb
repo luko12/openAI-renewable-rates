{
 "cells": [
  {
   "cell_type": "code",
   "execution_count": 2,
   "id": "c6e363b1",
   "metadata": {},
   "outputs": [],
   "source": [
    "import pandas as pd"
   ]
  },
  {
   "cell_type": "markdown",
   "id": "4e3674f9",
   "metadata": {},
   "source": [
    "## Helper"
   ]
  },
  {
   "cell_type": "code",
   "execution_count": 3,
   "id": "2accf4e7",
   "metadata": {},
   "outputs": [],
   "source": [
    "def load_csv(self, file_name):\n",
    "    return pd.read_csv(file_name)"
   ]
  },
  {
   "cell_type": "code",
   "execution_count": 4,
   "id": "7844a303",
   "metadata": {},
   "outputs": [],
   "source": [
    "def read_file_lines(self, file_name):\n",
    "    lines = \"\"\n",
    "    with open(file_name,'r', encoding='utf-8-sig') as f:\n",
    "        lines = f.readlines()\n",
    "\n",
    "    return lines"
   ]
  },
  {
   "cell_type": "code",
   "execution_count": 5,
   "id": "04d54508",
   "metadata": {},
   "outputs": [
    {
     "data": {
      "text/plain": [
       "'\\niterate through pandas rows;\\nfor index, row in exampler_df.iterrows():\\n    # add your code \\n'"
      ]
     },
     "execution_count": 5,
     "metadata": {},
     "output_type": "execute_result"
    }
   ],
   "source": [
    "\"\"\"\n",
    "iterate through pandas rows;\n",
    "for index, row in exampler_df.iterrows():\n",
    "    # add your code \n",
    "\"\"\""
   ]
  },
  {
   "cell_type": "markdown",
   "id": "1db96168",
   "metadata": {},
   "source": [
    "## Process"
   ]
  },
  {
   "cell_type": "code",
   "execution_count": null,
   "id": "fb0c8a28",
   "metadata": {},
   "outputs": [],
   "source": [
    "## 1- prepare functin to load the data from pandas based on criteria\n",
    "## OpenAI_Training_Data.csv\n",
    "# input parameter states and utilities"
   ]
  },
  {
   "cell_type": "code",
   "execution_count": null,
   "id": "c6bbfaf5",
   "metadata": {},
   "outputs": [],
   "source": [
    "# 2- load the template \n",
    "#template/ open_example_section_temp.txt\n",
    "\n",
    "# save the result inside mod"
   ]
  },
  {
   "cell_type": "code",
   "execution_count": null,
   "id": "b1b8bb2c",
   "metadata": {},
   "outputs": [],
   "source": []
  },
  {
   "cell_type": "code",
   "execution_count": null,
   "id": "a488860c",
   "metadata": {},
   "outputs": [],
   "source": []
  },
  {
   "cell_type": "code",
   "execution_count": null,
   "id": "5286e154",
   "metadata": {},
   "outputs": [],
   "source": []
  }
 ],
 "metadata": {
  "kernelspec": {
   "display_name": "Python (ml)",
   "language": "python",
   "name": "ml"
  },
  "language_info": {
   "codemirror_mode": {
    "name": "ipython",
    "version": 3
   },
   "file_extension": ".py",
   "mimetype": "text/x-python",
   "name": "python",
   "nbconvert_exporter": "python",
   "pygments_lexer": "ipython3",
   "version": "3.10.4"
  }
 },
 "nbformat": 4,
 "nbformat_minor": 5
}
